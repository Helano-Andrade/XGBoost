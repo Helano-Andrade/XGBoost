{
 "cells": [
  {
   "cell_type": "code",
   "execution_count": null,
   "metadata": {},
   "outputs": [],
   "source": [
    "# CÓDIGO 1.1)\n",
    "\n",
    "import pandas as pd # Biblioteca para manipulação de dados.\n",
    "import matplotlib.pyplot as plt # Bibliotecas para visualização de dados.\n",
    "import seaborn as sns # Bibliotecas para visualização de dados.\n",
    "from xgboost import XGBRegressor # Classe do XGBoost para tarefas de regressão.\n",
    "from sklearn.model_selection import train_test_split, cross_val_score # Função para realizar validação cruzada.\n",
    "from sklearn.metrics import mean_squared_error, r2_score, mean_absolute_error# Função para calcular o erro quadrático médio.\n",
    "import numpy as np # Biblioteca para operações matemáticas adicionais.\n",
    "\n",
    "\n",
    "# Carrega o dataset do caminho especificado usando pandas.\n",
    "dataset_path = '/content/Jubarte_SEx_Ex_Ez_EW01_2002_Poly3_AI_MCD_5_5_6_0_14_0.csv' # AMPMOD , PHASEMOD\n",
    "#dataset_path = '/content/rotated_dataset5.csv' # REAL E IMAGINARIO\n",
    "data = pd.read_csv(dataset_path)\n",
    "\n",
    "\n",
    "data = data[['AmpMod', 'PhaseMod', 'Freq']] # COLUNAS SELECIONADAS (AmpMod, PhaseMod, Frequencia)\n",
    "#data = data[['AmpMod', 'PhaseMod', 'Offset', 'Freq']] # COLUNAS SELECIONADAS ( AmpMod, PhaseMod, Offset, Frequencia)\n",
    "#data = data[['Real', 'Imaginario', 'Freq']] # COLUNAS SELECIONADAS ( Real, Imaginario, Frequencia)\n",
    "\n",
    "\n",
    "X = data[['AmpMod', 'PhaseMod']]  # Features -  (AmpMod e PhaseMod).\n",
    "#X = data[['AmpMod', 'PhaseMod', 'Offset']]  # Features -  (AmpMod , PhaseMod , Offset).\n",
    "#X = data[['Real', 'Imaginario']]  # Features -  (Real , Imaginario).\n",
    "y = data['Freq']                  # Target - (Freq).\n",
    "\n",
    "# Divisão em conjuntos de treino (80%) e teste (20%), # shuffle=True embaralha os dados antes de dividir.\n",
    "X_train, X_test, y_train, y_test = train_test_split(X, y, test_size=0.2, random_state=42, shuffle=True)\n",
    "\n",
    "model = XGBRegressor(random_state=42) # Inicializa o modelo de regressão do XGBoost.\n",
    "\n",
    "# Treina o modelo XGBRegressor com os dados de treino.\n",
    "model.fit(X_train, y_train) # Treina o modelo usando os dados de treino (X_train e y_train)."
   ]
  }
 ],
 "metadata": {
  "language_info": {
   "name": "python"
  }
 },
 "nbformat": 4,
 "nbformat_minor": 2
}
